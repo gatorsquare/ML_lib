{
 "cells": [
  {
   "cell_type": "code",
   "execution_count": 113,
   "metadata": {},
   "outputs": [
    {
     "name": "stdout",
     "output_type": "stream",
     "text": [
      "      CRIM    ZN  INDUS  CHAS    NOX     RM   AGE     DIS  RAD    TAX  \\\n",
      "0  0.00632  18.0   2.31   0.0  0.538  6.575  65.2  4.0900  1.0  296.0   \n",
      "1  0.02731   0.0   7.07   0.0  0.469  6.421  78.9  4.9671  2.0  242.0   \n",
      "2  0.02729   0.0   7.07   0.0  0.469  7.185  61.1  4.9671  2.0  242.0   \n",
      "3  0.03237   0.0   2.18   0.0  0.458  6.998  45.8  6.0622  3.0  222.0   \n",
      "4  0.06905   0.0   2.18   0.0  0.458  7.147  54.2  6.0622  3.0  222.0   \n",
      "\n",
      "   PTRATIO       B  LSTAT  MEDV  \n",
      "0     15.3  396.90   4.98  24.0  \n",
      "1     17.8  396.90   9.14  21.6  \n",
      "2     17.8  392.83   4.03  34.7  \n",
      "3     18.7  394.63   2.94  33.4  \n",
      "4     18.7  396.90   5.33  36.2  \n"
     ]
    }
   ],
   "source": [
    "import pandas\n",
    "import numpy as np\n",
    "from sklearn.datasets import load_boston\n",
    "from sklearn.linear_model import LinearRegression\n",
    "\n",
    "#- Normal Equation\n",
    "def normal_equation(data_x, data_y):\n",
    "    #- Calculate the number of rows of data_x, labeled as m\n",
    "    m = len(data_x)\n",
    "    #- Add a spacer column to x\n",
    "    x = np.c_[np.ones((m,1)), data_x]\n",
    "    \n",
    "    #- Theta = (xTx)^(-1)xTy \n",
    "    xTx = x.transpose().dot(x)\n",
    "    theta = np.linalg.inv(xTx).dot(x.transpose()).dot(y)\n",
    "    return theta\n",
    "\n",
    "\n",
    "#- preprocess data\n",
    "rawData = load_boston()\n",
    "bostonDataset = pandas.DataFrame(rawData.data, columns=rawData.feature_names)\n",
    "x = np.array(bostonDataset)\n",
    "bostonDataset['MEDV'] = rawData.target\n",
    "y = np.array(bostonDataset['MEDV'])[:, np.newaxis]\n",
    "print(bostonDataset.head())"
   ]
  },
  {
   "cell_type": "code",
   "execution_count": 116,
   "metadata": {},
   "outputs": [
    {
     "name": "stdout",
     "output_type": "stream",
     "text": [
      "theta_ne  [[ 3.64594884e+01]\n",
      " [-1.08011358e-01]\n",
      " [ 4.64204584e-02]\n",
      " [ 2.05586264e-02]\n",
      " [ 2.68673382e+00]\n",
      " [-1.77666112e+01]\n",
      " [ 3.80986521e+00]\n",
      " [ 6.92224640e-04]\n",
      " [-1.47556685e+00]\n",
      " [ 3.06049479e-01]\n",
      " [-1.23345939e-02]\n",
      " [-9.52747232e-01]\n",
      " [ 9.31168327e-03]\n",
      " [-5.24758378e-01]]\n"
     ]
    }
   ],
   "source": [
    "#- Find theta using Normal Equation\n",
    "theta_ne = normal_equation(x, y)\n",
    "print('theta_ne ', theta_ne)"
   ]
  },
  {
   "cell_type": "code",
   "execution_count": 115,
   "metadata": {},
   "outputs": [
    {
     "name": "stdout",
     "output_type": "stream",
     "text": [
      "theta_scikit  [[ 3.64594884e+01]\n",
      " [-1.08011358e-01]\n",
      " [ 4.64204584e-02]\n",
      " [ 2.05586264e-02]\n",
      " [ 2.68673382e+00]\n",
      " [-1.77666112e+01]\n",
      " [ 3.80986521e+00]\n",
      " [ 6.92224640e-04]\n",
      " [-1.47556685e+00]\n",
      " [ 3.06049479e-01]\n",
      " [-1.23345939e-02]\n",
      " [-9.52747232e-01]\n",
      " [ 9.31168327e-03]\n",
      " [-5.24758378e-01]]\n"
     ]
    }
   ],
   "source": [
    "# - Find theta using Scikit-learn\n",
    "reg = LinearRegression().fit(x, y)\n",
    "theta_scikit = np.c_[reg.intercept_, reg.coef_]\n",
    "print('theta_scikit ', theta_scikit.transpose())"
   ]
  },
  {
   "cell_type": "code",
   "execution_count": null,
   "metadata": {},
   "outputs": [],
   "source": []
  }
 ],
 "metadata": {
  "kernelspec": {
   "display_name": "Python 3",
   "language": "python",
   "name": "python3"
  },
  "language_info": {
   "codemirror_mode": {
    "name": "ipython",
    "version": 3
   },
   "file_extension": ".py",
   "mimetype": "text/x-python",
   "name": "python",
   "nbconvert_exporter": "python",
   "pygments_lexer": "ipython3",
   "version": "3.7.3"
  }
 },
 "nbformat": 4,
 "nbformat_minor": 2
}
