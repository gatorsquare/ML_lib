{
 "cells": [
  {
   "cell_type": "code",
   "execution_count": 3,
   "metadata": {},
   "outputs": [
    {
     "name": "stdout",
     "output_type": "stream",
     "text": [
      "Number of data points =  506\n",
      "Learning rate =  0.001\n",
      "Number of iterations =  55952\n",
      "diff =  [8.8817842e-14]\n",
      "b0 =  [[34.55379115]]\n",
      "b1 =  [[-0.95004637]]\n"
     ]
    },
    {
     "data": {
      "image/png": "[encoded data removed]",
      "text/plain": [
       "<Figure size 432x288 with 1 Axes>"
      ]
     },
     "metadata": {
      "needs_background": "light"
     },
     "output_type": "display_data"
    }
   ],
   "source": [
    "import pandas\n",
    "import numpy as np\n",
    "import random\n",
    "import matplotlib.pyplot as plt\n",
    "from sklearn.datasets import load_boston\n",
    "\n",
    "#- Loss function for simple linear regression\n",
    "def loss_function_SLR(hypothesis, y):\n",
    "    loss_function = np.square(hypothesis - y)\n",
    "    return loss_function\n",
    "\n",
    "#- Cost function for simple linear regression with n data points\n",
    "def cost_function_SLR(loss_function, n):\n",
    "    cost_function = 0.5 / n * sum(loss_function)\n",
    "    return cost_function\n",
    "\n",
    "#- Gradient descent for simple linear regression \n",
    "#- assuming the best fitting line is y = b + mx, \n",
    "#- where m is the slope and b is the intercept\n",
    "def gradient_descent(raw_x, raw_y, \n",
    "                     learning_rate = 0.001, max_iterations = 100000,\n",
    "                     convergence_criteria = 1.0e-13):\n",
    "    #- Preprocess data\n",
    "    n = np.size(raw_x)  # number of data points\n",
    "    x = np.array(raw_x)\n",
    "    y = np.array(raw_y)\n",
    "    \n",
    "    #- Assign initial b and m  \n",
    "    b = np.zeros((x.shape[1], 1))\n",
    "    m = np.zeros((x.shape[1], 1))\n",
    "\n",
    "    #- Iterate to minimize the cost function\n",
    "    #- Stop the iteration if max iterations reached or convergence criteria satisfied\n",
    "    converged = False\n",
    "    counter = 0\n",
    "    x_transpose = x.transpose()\n",
    "    cost_function = 0.0\n",
    "    diff = 0.0\n",
    "    while not converged:\n",
    "        hypothesis = np.dot(x, m) + b\n",
    "\n",
    "        gradient_b = 1.0/n * sum(hypothesis - y)\n",
    "        gradient_m = 1.0/n * np.dot(x_transpose, (hypothesis - y))\n",
    "\n",
    "        b = b - learning_rate * gradient_b\n",
    "        m = m - learning_rate * gradient_m\n",
    "\n",
    "#         print('iter = ', counter, ', cost_function = ', cost_function, ', diff = ', diff)\n",
    "\n",
    "        #- Calculate cost function and the difference between two iterations\n",
    "        hypothesis_updated = np.dot(x, m) + b\n",
    "        loss_function = loss_function_SLR(hypothesis_updated, y)\n",
    "        temp_cost_function = cost_function_SLR(loss_function, n)\n",
    "        counter = counter + 1\n",
    "        diff = abs(temp_cost_function - cost_function)\n",
    "        \n",
    "        if counter > 1 and cost_function <= temp_cost_function:\n",
    "            converged = True             \n",
    "        else:\n",
    "            cost_function = temp_cost_function\n",
    "\n",
    "        if counter >= max_iterations or diff <= convergence_criteria:\n",
    "            converged = True\n",
    "        \n",
    "    else:\n",
    "        print('Number of data points = ', n)\n",
    "        print('Learning rate = ', learning_rate)\n",
    "        print('Number of iterations = ', counter)\n",
    "        print('diff = ', diff)\n",
    "    \n",
    "    #- retuern b and m\n",
    "    return (b, m)\n",
    "\n",
    "\n",
    "#- preprocess data\n",
    "rawData = load_boston()\n",
    "bostonDataset = pandas.DataFrame(rawData.data, columns=rawData.feature_names)\n",
    "bostonDataset['MEDV'] = rawData.target\n",
    "\n",
    "x = np.array(bostonDataset['LSTAT'])[:, np.newaxis]\n",
    "y = np.array(bostonDataset['MEDV'])[:, np.newaxis]\n",
    "\n",
    "#- Find b0 and b1 using Gradient descent\n",
    "(b0, b1) = gradient_descent(x, y)\n",
    "print('b0 = ', b0)\n",
    "print('b1 = ', b1)\n",
    "\n",
    "\n",
    "#- plot \n",
    "\n",
    "y_pred = b0 + b1 * x\n",
    "plt.scatter(x, y)\n",
    "plt.plot(x, y_pred, color='r')\n",
    "\n",
    "plt.xlabel('LSTAT')\n",
    "plt.ylabel('MEDV')\n",
    "plt.show()"
   ]
  },
  {
   "cell_type": "code",
   "execution_count": null,
   "metadata": {},
   "outputs": [],
   "source": []
  }
 ],
 "metadata": {
  "kernelspec": {
   "display_name": "Python 3",
   "language": "python",
   "name": "python3"
  },
  "language_info": {
   "codemirror_mode": {
    "name": "ipython",
    "version": 3
   },
   "file_extension": ".py",
   "mimetype": "text/x-python",
   "name": "python",
   "nbconvert_exporter": "python",
   "pygments_lexer": "ipython3",
   "version": "3.7.3"
  }
 },
 "nbformat": 4,
 "nbformat_minor": 2
}
